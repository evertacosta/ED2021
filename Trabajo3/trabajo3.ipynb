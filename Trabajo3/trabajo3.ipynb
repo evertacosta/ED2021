{
 "cells": [
  {
   "cell_type": "markdown",
   "source": [
    "# EDO de Segundo Orden y Aplicaciones\n",
    "\n",
    "## Introduccion\n"
   ],
   "metadata": {
    "collapsed": false
   }
  },
  {
   "cell_type": "markdown",
   "metadata": {
    "collapsed": true,
    "pycharm": {
     "name": "#%% md\n"
    }
   },
   "source": [
    "|Grupo|$T_{1}$|$T_{2}$|$T_{s}$|     $P$     |\n",
    "|:---:|:-----:|:-----:|:-----:|:-----------:|\n",
    "|  10 |   9   |   7   |   4   |$\\frac{1}{2}$|\n",
    "\n",
    "\n",
    "## 3 Sistema mas resorte amortiguado\n",
    "Considere el siguiente sistema masa-resorte-amortiguador:\n",
    "\n",
    "Tal como visto en clase, $m[kg]$ representa la masa del objeto, $k[N/m]$ la\n",
    "constante de elasticidad del resorte, $b[N/m/s]$ la constante del amortiguador\n",
    "y $F[N]$ representa una fuerza externa aplicada al sistema. El desplazamiento\n",
    "de la masa se representa por $x(t)[m]$ y se considera positivo hacia abajo."
   ]
  },
  {
   "cell_type": "markdown",
   "source": [
    "## 4 Sistema masa resorte amortiguador sin excitación\n",
    "Para esta sección asuma que la fuerza aplicada es nula $F=0[N]$. Asuma un\n",
    "valor de $m$ igual a su número de grupo (en kilogramos). Calcule los valores\n",
    "de $b$ y $k$ necesarios para obtener (Valor 4 puntos):\n",
    "\n",
    "a. Un sistema sobreamortiguado, con tiempos de establecimiento de $T_{1}$ y\n",
    "$T_{2}$ respectivamente para sus dos funciones exponenciales.<br>\n",
    "b. Un sistema subamortiguado, con un tiempo de establecimiento de $T_{s}$ y\n",
    "un pseudoperiodo de oscilación de $P$.\n",
    "\n",
    "Los valores de $T_{1}$, $T_{2}$, $T_{s}$ y $P$ correspondientes a cada grupo se reportan en\n",
    "la tabla 1. Para los tiempos de establecimiento se asume el criterio de las\n",
    "cinco constantes de tiempo, como establecido en clase."
   ],
   "metadata": {
    "collapsed": false
   }
  },
  {
   "cell_type": "markdown",
   "source": [
    "Para cada uno de los sistemas anteriores determine manualmente la función\n",
    "que representa al desplazamiento $x(t)$, asumiendo condiciones iniciales\n",
    "$x(0) = 1[m]$ y $x'(0) = 0[m/s]$. Recuerde que debe reportar el procedimiento matem ́atico.\n",
    "(***Valor 6 puntos***).\n",
    "\n",
    "### Solución\n"
   ],
   "metadata": {
    "collapsed": false,
    "pycharm": {
     "name": "#%% md\n"
    }
   }
  },
  {
   "cell_type": "markdown",
   "source": [
    "Utilice **Python** para graficar las funciones obtenidas en el párrafo anterior.\n",
    "\n",
    "*¿Los tiempos de estabilización y pseudoperiodos estimados en las gráficas\n",
    "coinciden con los valores solicitados?*\n",
    "\n",
    "Justifique claramente su respuesta.\n",
    "Use el comando de anotación para los tiempos anteriores en la gráfica.\n",
    "\n",
    "***(Valor 6 puntos).***"
   ],
   "metadata": {
    "collapsed": false,
    "pycharm": {
     "name": "#%% md\n"
    }
   }
  },
  {
   "cell_type": "code",
   "execution_count": 1,
   "outputs": [
    {
     "name": "stdout",
     "output_type": "stream",
     "text": [
      "hola mundo\n"
     ]
    }
   ],
   "source": [
    "print('hola mundo')"
   ],
   "metadata": {
    "collapsed": false,
    "pycharm": {
     "name": "#%%\n"
    }
   }
  },
  {
   "cell_type": "markdown",
   "source": [
    "Implemente el sistema en OpenModelica, utilizando los bloques de la librería\n",
    "Mechanics - Translational y obtenga las curvas para $x(t)$ en cada uno de los\n",
    "casos, estas gráficas deben ser reportadas en su informe.\n",
    "\n",
    "***(Valor 4 puntos).***"
   ],
   "metadata": {
    "collapsed": false,
    "pycharm": {
     "name": "#%% md\n"
    }
   }
  },
  {
   "cell_type": "markdown",
   "source": [
    "Importe las soluciones obtenidos con OpenModelica a Python. Realice una\n",
    "comparación entre los resultados obtenidos en OpenModelica y los resultados\n",
    "obtenidos con el procedimiento manual, sobreponiendo las gráficas\n",
    "correspondientes.\n",
    "\n",
    "***(Valor 6 puntos)***."
   ],
   "metadata": {
    "collapsed": false,
    "pycharm": {
     "name": "#%% md\n"
    }
   }
  },
  {
   "cell_type": "markdown",
   "source": [
    "### 5 Sistema masa resorte amortiguador con excitación (24 puntos)"
   ],
   "metadata": {
    "collapsed": false,
    "pycharm": {
     "name": "#%% md\n"
    }
   }
  }
 ],
 "metadata": {
  "kernelspec": {
   "display_name": "Python 3",
   "language": "python",
   "name": "python3"
  },
  "language_info": {
   "codemirror_mode": {
    "name": "ipython",
    "version": 2
   },
   "file_extension": ".py",
   "mimetype": "text/x-python",
   "name": "python",
   "nbconvert_exporter": "python",
   "pygments_lexer": "ipython2",
   "version": "2.7.6"
  }
 },
 "nbformat": 4,
 "nbformat_minor": 0
}