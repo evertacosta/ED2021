{
 "cells": [
  {
   "cell_type": "markdown",
   "source": [
    "# EDO de Segundo Orden y Aplicaciones\n",
    "\n",
    "## Introduccion\n"
   ],
   "metadata": {
    "collapsed": false
   }
  },
  {
   "cell_type": "markdown",
   "metadata": {
    "collapsed": true,
    "pycharm": {
     "name": "#%% md\n"
    }
   },
   "source": [
    "|Grupo|$T_{1}$|$T_{2}$|$T_{s}$|     $P$     |\n",
    "|:---:|:-----:|:-----:|:-----:|:-----------:|\n",
    "|  10 |   9   |   7   |   4   |$\\frac{1}{2}$|\n",
    "\n",
    "\n",
    "## 3 Sistema mas resorte amortiguado\n",
    "Considere el siguiente sistema masa-resorte-amortiguador:\n",
    "\n",
    "<div style=\"display:flex;justify-content:center\">\n",
    "<img src=\"https://raw.githubusercontent.com/evertacosta/ED2021/main/Trabajo3/IMG_1874.jpeg\" width=300px></img>\n",
    "</div>\n",
    "\n",
    "Tal como visto en clase, $m[kg]$ representa la masa del objeto, $k[N/m]$ la\n",
    "constante de elasticidad del resorte, $b[N/m/s]$ la constante del amortiguador\n",
    "y $F[N]$ representa una fuerza externa aplicada al sistema. El desplazamiento\n",
    "de la masa se representa por $x(t)[m]$ y se considera positivo hacia abajo."
   ]
  },
  {
   "cell_type": "markdown",
   "source": [
    "## 4 Sistema masa resorte amortiguador sin excitación (26 puntos)\n",
    "Para esta sección asuma que la fuerza aplicada es nula $F=0[N]$. Asuma un\n",
    "valor de $m$ igual a su número de grupo (en kilogramos). Calcule los valores\n",
    "de $b$ y $k$ necesarios para obtener<br>\n",
    "***(Valor 4 puntos):***\n",
    "\n",
    "a. Un sistema **sobreamortiguado**, con tiempos de establecimiento de $T_{1}$ y\n",
    "$T_{2}$ respectivamente para sus dos funciones exponenciales.\n",
    "\n",
    "b. Un sistema **subamortiguado**, con un tiempo de establecimiento de $T_{s}$ y\n",
    "un pseudoperiodo de oscilación de $P$.\n",
    "\n",
    "Los valores de $T_{1}$, $T_{2}$, $T_{s}$ y $P$ correspondientes a cada grupo se reportan en\n",
    "la tabla 1. Para los tiempos de establecimiento se asume el criterio de las\n",
    "cinco constantes de tiempo, como establecido en clase."
   ],
   "metadata": {
    "collapsed": false
   }
  },
  {
   "cell_type": "markdown",
   "source": [
    "### Solución\n",
    "$$ \\begin{align} \\lambda_1 = 5\\left(\\frac{-1}{T_1}\\right) && \\lambda_2 = 5\\left(\\frac{-1}{T_1}\\right) \\end{align} $$\n",
    "\n",
    "$$ \\begin{align} \\lambda_1 = 5\\left(\\frac{-1}{9}\\right) && \\lambda_2 = 5\\left(\\frac{-1}{7}\\right) \\end{align} $$\n",
    "\n",
    "$$ \\begin{align} \\lambda_1=-\\frac{5}{9}  && \\lambda_2=-\\frac{5}{7}  \\end{align} $$\n",
    "\n",
    "$$ \\begin{align} \\lambda_1^2 + \\frac{\\beta}{m}\\lambda_1+\\frac{k}{m}=0 && \\lambda_2^2 + \\frac{\\beta}{m}\\lambda_2+\\frac{k}{m}=0 \\end{align}$$\n",
    "\n",
    "$$ \\begin{align} \\left(-\\frac{5}{9}\\right)^2+\\left(-\\frac{5}{9}\\right)\\frac{\\beta}{(10)}+\\frac{k}{10}=0 && \\left(-\\frac{5}{7}\\right)^2+\\left(-\\frac{5}{7}\\right)\\frac{\\beta}{(10)}+\\frac{k}{10}=0 \\end{align}$$\n",
    "\n",
    "$$ \\begin{align} -\\frac{\\beta}{18}+\\frac{k}{10}=-\\frac{25}{81} && -\\frac{\\beta}{14}+\\frac{k}{10}=-\\frac{25}{49} \\end{align}$$\n",
    "\n",
    "$$ \\begin{pmatrix} -\\frac{1}{18} & \\frac{1}{10} & -\\frac{25}{81} \\\\ \\end{pmatrix} $$"
   ],
   "metadata": {
    "collapsed": false
   }
  },
  {
   "cell_type": "markdown",
   "source": [
    "Para cada uno de los sistemas anteriores determine manualmente la función\n",
    "que representa al desplazamiento $x(t)$, asumiendo condiciones iniciales\n",
    "$x(0) = 1[m]$ y $x'(0) = 0[m/s]$. Recuerde que debe reportar el procedimiento matemático.<br>\n",
    "***(Valor 6 puntos).***\n",
    "\n",
    "### Solución\n"
   ],
   "metadata": {
    "collapsed": false,
    "pycharm": {
     "name": "#%% md\n"
    }
   }
  },
  {
   "cell_type": "markdown",
   "source": [
    "Utilice **Python** para graficar las funciones obtenidas en el párrafo anterior.<br>\n",
    "*¿Los tiempos de estabilización y pseudoperiodos estimados en las gráficas\n",
    "coinciden con los valores solicitados?*<br>\n",
    "Justifique claramente su respuesta.\n",
    "Use el comando de anotación para los tiempos anteriores en la gráfica.<br>\n",
    "***(Valor 6 puntos).***\n",
    "\n",
    "### Solucion"
   ],
   "metadata": {
    "collapsed": false,
    "pycharm": {
     "name": "#%% md\n"
    }
   }
  },
  {
   "cell_type": "code",
   "execution_count": 1,
   "outputs": [
    {
     "name": "stdout",
     "output_type": "stream",
     "text": [
      "hola mundo\n"
     ]
    }
   ],
   "source": [
    "print('hola mundo')"
   ],
   "metadata": {
    "collapsed": false,
    "pycharm": {
     "name": "#%%\n"
    }
   }
  },
  {
   "cell_type": "markdown",
   "source": [
    "Implemente el sistema en OpenModelica, utilizando los bloques de la librería\n",
    "Mechanics - Translational y obtenga las curvas para $x(t)$ en cada uno de los\n",
    "casos, estas gráficas deben ser reportadas en su informe.<br>\n",
    "***(Valor 4 puntos).***\n",
    "\n",
    "### Solucion"
   ],
   "metadata": {
    "collapsed": false,
    "pycharm": {
     "name": "#%% md\n"
    }
   }
  },
  {
   "cell_type": "markdown",
   "source": [
    "Importe las soluciones obtenidos con OpenModelica a Python. Realice una\n",
    "comparación entre los resultados obtenidos en OpenModelica y los resultados\n",
    "obtenidos con el procedimiento manual, sobreponiendo las gráficas\n",
    "correspondientes.<br>\n",
    "***(Valor 6 puntos)***."
   ],
   "metadata": {
    "collapsed": false,
    "pycharm": {
     "name": "#%% md\n"
    }
   }
  },
  {
   "cell_type": "markdown",
   "source": [
    "## 5 Sistema masa resorte amortiguador con excitación (24 puntos)\n",
    "Para realizar esta sección asuma que la fuerza externa $F(t)$ está dada por:<br>\n",
    "$$ F(t) = \\left\\{\\begin{array}\\\\0 & 0<t<2[s] \\\\c & t>2[s]\\\\\\end{array}\\right.$$\n",
    "\n",
    "Dónde el valor de $c$ lo puede elegir libremente. Para los valores del resto de\n",
    "parámetros use los mismos de la sección anterior, seleccionando uno solo de\n",
    "los casos como se muestra en la siguiente tabla:\n",
    "\n",
    "|Grupos|Caso a reutilizar|\n",
    "|:---:|:-----:|\n",
    "|$1,2,3,4,5,6,7,8,9,10$|Subamortiguado|\n",
    "|$11,12,13,14,15,16,17,18,19,20$|Sobreamortiguado|"
   ],
   "metadata": {
    "collapsed": false,
    "pycharm": {
     "name": "#%% md\n"
    }
   }
  },
  {
   "cell_type": "markdown",
   "source": [
    "Obtenga una manualmente expresión para $x(t)$, obviamente se tratará de\n",
    "una expresión por tramos. Recuerde reportar su procedimiento matemático<br>\n",
    "***(6 puntos)***\n"
   ],
   "metadata": {
    "collapsed": false
   }
  }
 ],
 "metadata": {
  "kernelspec": {
   "display_name": "Python 3",
   "language": "python",
   "name": "python3"
  },
  "language_info": {
   "codemirror_mode": {
    "name": "ipython",
    "version": 2
   },
   "file_extension": ".py",
   "mimetype": "text/x-python",
   "name": "python",
   "nbconvert_exporter": "python",
   "pygments_lexer": "ipython2",
   "version": "2.7.6"
  }
 },
 "nbformat": 4,
 "nbformat_minor": 0
}