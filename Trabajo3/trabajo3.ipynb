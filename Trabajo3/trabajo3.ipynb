{
 "cells": [
  {
   "cell_type": "markdown",
   "source": [
    "# EDO de Segundo Orden y Aplicaciones\n",
    "\n",
    "## Introduccion"
   ],
   "metadata": {
    "collapsed": false
   }
  },
  {
   "cell_type": "code",
   "execution_count": 5,
   "outputs": [],
   "source": [
    "import matplotlib.pyplot as plt\n",
    "import pandas as pd\n",
    "import numpy as np\n",
    "\n",
    "def solucion_sistema2x3(row1, row2, b):\n",
    "    a = np.array([row1, row2])\n",
    "    b = np.array(b)\n",
    "    x = np.linalg.solve(a, b)\n",
    "\n",
    "    return x[0], x[1]"
   ],
   "metadata": {
    "collapsed": false,
    "pycharm": {
     "name": "#%%\n"
    }
   }
  },
  {
   "cell_type": "markdown",
   "metadata": {
    "collapsed": true,
    "pycharm": {
     "name": "#%% md\n"
    }
   },
   "source": [
    "|Grupo|$T_{1}$|$T_{2}$|$T_{s}$|     $P$     |\n",
    "|:---:|:-----:|:-----:|:-----:|:-----------:|\n",
    "|  10 |   9   |   7   |   4   |$\\frac{1}{2}$|\n",
    "\n",
    "\n",
    "## 3 Sistema mas resorte amortiguado\n",
    "Considere el siguiente sistema masa-resorte-amortiguador:\n",
    "\n",
    "<div style=\"display:flex;justify-content:center\">\n",
    "<img src=\"https://raw.githubusercontent.com/evertacosta/ED2021/main/Trabajo3/IMG_1874.jpeg\" width=300px></img>\n",
    "</div>\n",
    "\n",
    "Tal como visto en clase, $m[kg]$ representa la masa del objeto, $k[N/m]$ la\n",
    "constante de elasticidad del resorte, $b[N/m/s]$ la constante del amortiguador\n",
    "y $F[N]$ representa una fuerza externa aplicada al sistema. El desplazamiento\n",
    "de la masa se representa por $x(t)[m]$ y se considera positivo hacia abajo."
   ]
  },
  {
   "cell_type": "markdown",
   "source": [
    "# 4 Sistema masa resorte amortiguador sin excitación (26 puntos)\n",
    "Para esta sección asuma que la fuerza aplicada es nula $F=0[N]$. Asuma un\n",
    "valor de $m$ igual a su número de grupo (en kilogramos). Calcule los valores\n",
    "de $b$ y $k$ necesarios para obtener<br>\n",
    "***(Valor 4 puntos):***\n",
    "\n",
    "Los valores de $T_{1}$, $T_{2}$, $T_{s}$ y $P$ correspondientes a cada grupo se reportan en\n",
    "la tabla 1. Para los tiempos de establecimiento se asume el criterio de las\n",
    "cinco constantes de tiempo, como establecido en clase.\n"
   ],
   "metadata": {
    "collapsed": false
   }
  },
  {
   "cell_type": "markdown",
   "source": [
    "a. Un sistema **sobreamortiguado**, con tiempos de establecimiento de $T_{1}$ y\n",
    "$T_{2}$ respectivamente para sus dos funciones exponenciales."
   ],
   "metadata": {
    "collapsed": false
   }
  },
  {
   "cell_type": "markdown",
   "source": [
    "#### Solución 4.a sistema sobreamortiguado\n",
    "Los tiempos de establecimiento corresponmdientes para el grupo 10 segun la tabla 1 son:\n",
    "$$ \\begin{align} T_1=9 && T_2=7 \\end{align} $$\n",
    "\n",
    "Iniciamos con las ecuaciones<br>\n",
    "$$ \\begin{align} \\lambda_1 = 5\\left(\\frac{-1}{T_1}\\right) && \\lambda_2 = 5\\left(\\frac{-1}{T_1}\\right) \\end{align} $$\n",
    "\n",
    "Estas ecuaciones nos permiten determinar las raizes solucion de la ecuacion diferencial. Cabe resaltar que\n",
    "seremos capaces de conocer la **solucion general** de la ecuacion diferencial sin conocer los valores\n",
    "de $\\beta$ y $k$ y por ende la ecuacion diferencial como tal.\n",
    "\n",
    "Reemplazamos $T_1$ y $T_2$ respectivamente<br>\n",
    "$$ \\begin{align} \\lambda_1 = 5\\left(\\frac{-1}{9}\\right) && \\lambda_2 = 5\\left(\\frac{-1}{7}\\right) \\end{align} $$\n",
    "\n",
    "\n",
    "$$ \\begin{align} \\lambda_1=-\\frac{5}{9}  && \\lambda_2=-\\frac{5}{7}  \\end{align} $$\n",
    "\n",
    "Ahora usaremos  el sistema de ecuaciones que obtuvimos en para encontrar los valores de $\\beta$ y $k$.\n",
    "Remplazamos respectivamente y simplificamos.<br>\n",
    "$$ \\begin{align} \\lambda_1^2 + \\frac{\\beta}{m}\\lambda_1+\\frac{k}{m}=0 && \\lambda_2^2 + \\frac{\\beta}{m}\\lambda_2+\\frac{k}{m}=0 \\end{align}$$\n",
    "\n",
    "$$ \\begin{align} \\left(-\\frac{5}{9}\\right)^2+\\left(-\\frac{5}{9}\\right)\\frac{\\beta}{(10)}+\\frac{k}{10}=0 && \\left(-\\frac{5}{7}\\right)^2+\\left(-\\frac{5}{7}\\right)\\frac{\\beta}{(10)}+\\frac{k}{10}=0 \\end{align}$$\n",
    "\n",
    "$$ \\begin{align} -\\frac{\\beta}{18}+\\frac{k}{10}=-\\frac{25}{81} && -\\frac{\\beta}{14}+\\frac{k}{10}=-\\frac{25}{49} \\end{align}$$\n",
    "\n",
    "Ahora armamos nuestra matriz y solucionamos usando la funcion escrita en python anteriormente, siendo la primera columna\n",
    "$\\beta$ y la segunda $k$<br>\n",
    "$$ \\begin{pmatrix} -\\frac{1}{18} & \\frac{1}{10} & -\\frac{25}{81} \\\\ -\\frac{1}{14} & \\frac{1}{10} & -\\frac{25}{49} \\end{pmatrix} $$"
   ],
   "metadata": {
    "collapsed": false,
    "pycharm": {
     "name": "#%% md\n"
    }
   }
  },
  {
   "cell_type": "code",
   "execution_count": 10,
   "outputs": [
    {
     "name": "stdout",
     "output_type": "stream",
     "text": [
      "Constante de amortiguamiento b=12.7\n",
      "Constante de resorte k=4.0\n"
     ]
    }
   ],
   "source": [
    "# fila 1 de la matriz\n",
    "row1 = [-1/18, 1/10]\n",
    "# fila 2 de la matriz\n",
    "row2 = [-1/14, 1/10]\n",
    "b = [-25/81, -25/49]\n",
    "# retorna constante de amortiguamiento y de resorte\n",
    "beta, k = np.around(solucion_sistema2x3(row1, row2, b), 1)\n",
    "print('Constante de amortiguamiento b={}\\nConstante de resorte k={}'.format(beta, k))\n",
    "\n"
   ],
   "metadata": {
    "collapsed": false,
    "pycharm": {
     "name": "#%%\n"
    }
   }
  },
  {
   "cell_type": "markdown",
   "source": [
    "b. Un sistema **subamortiguado**, con un tiempo de establecimiento de $T_{s}$ y\n",
    "un pseudoperiodo de oscilación de $P$."
   ],
   "metadata": {
    "collapsed": false
   }
  },
  {
   "cell_type": "markdown",
   "source": [
    "#### Solucion 4.b sistema subanmortiguado\n",
    "$$ \\begin{align}  T_s = 4 && P=\\frac{1}{2} \\end{align}$$\n",
    "\n",
    "$$ \\begin{align} T_s = 5\\left(\\frac{-1}{\\sigma}\\right) && P=\\frac{2\\pi}{\\omega} \\end{align}$$\n",
    "\n",
    "$$ \\begin{align} 4 = \\frac{-5}{\\sigma} && \\frac{1}{2} = \\frac{2\\pi}{\\omega} \\end{align}$$\n",
    "\n",
    "$$ \\begin{align} \\sigma = -\\frac{5}{4} && \\omega = 4\\pi \\end{align}$$\n",
    "\n",
    "$$ \\lambda = -\\frac{5}{4} + 4\\pi j $$\n",
    "\n",
    "$$ \\begin{align} -\\frac{\\beta}{2m} = -\\frac{5}{4} && \\left(\\frac{\\beta}{2m}\\right)^2 - \\frac{k}{m} = -(\\omega)^2 \\end{align}$$\n",
    "\n",
    "$$ \\begin{align} \\frac{\\beta}{m} = \\frac{10}{4} && \\left(\\frac{25}{20}\\right)^2 - \\frac{k}{10} = -(4\\pi)^2 \\end{align}$$\n",
    "\n",
    "$$ \\begin{align} \\beta = \\frac{10}{4}m && \\frac{25}{16} - \\frac{k}{10} = -(4\\pi)^2 \\end{align}$$\n",
    "\n",
    "$$ \\begin{align} \\beta = \\frac{10}{4}(10) &&  - \\frac{k}{10} = -(4\\pi)^2  -\\frac{25}{16} \\end{align}$$\n",
    "\n",
    "$$ \\begin{align} \\beta = \\frac{100}{4} && k = -10\\left( -(4\\pi)^2  -\\frac{25}{16}\\right) \\end{align}$$\n",
    "\n",
    "$$ \\begin{align} \\beta = 25 && k = 1594.76 = 1595 \\end{align}$$"
   ],
   "metadata": {
    "collapsed": false
   }
  },
  {
   "cell_type": "markdown",
   "source": [
    "Para cada uno de los sistemas anteriores determine manualmente la función\n",
    "que representa al desplazamiento $x(t)$, asumiendo condiciones iniciales\n",
    "$x(0) = 1[m]$ y $x'(0) = 0[m/s]$. Recuerde que debe reportar el procedimiento matemático.<br>\n",
    "***(Valor 6 puntos).***"
   ],
   "metadata": {
    "collapsed": false,
    "pycharm": {
     "name": "#%% md\n"
    }
   }
  },
  {
   "cell_type": "markdown",
   "source": [
    "### Solución\n",
    "\n",
    "Ecuacion diferencial\n",
    "\n",
    "$$ 10\\frac{d^2x}{dt^2}+\\frac{800}{63}\\frac{dx}{dt}+\\frac{250}{63}x=0$$\n",
    "\n",
    "$$\\begin{align} x(t) = c_1e^{-\\frac{5}{9}t} + c_2e^{-\\frac{5}{7}t} && x'(t)=-\\frac{5}{9}c_1e^{-\\frac{5}{9}t}-\\frac{5}{7}c_2e^{-\\frac{5}{7}t} \\end{align}$$\n",
    "\n",
    "$$\\begin{align} x(0) = c_1e^{-\\frac{5}{9}(0)} + c_2e^{-\\frac{5}{7}(0)}=1 && x'(0)=-\\frac{5}{9}c_1e^{-\\frac{5}{9}(0)}-\\frac{5}{7}c_2e^{-\\frac{5}{7}(0)} \\end{align}=0$$\n",
    "\n",
    "$$\\begin{align} c_1 + c_2 =1 && -\\frac{5}{9}c_1-\\frac{5}{7}c_2 \\end{align}=0$$\n",
    "\n",
    "$$ \\begin{pmatrix} 1 & 1 & 1 \\\\ -\\frac{5}{9} & -\\frac{5}{7} & 0 \\end{pmatrix} $$"
   ],
   "metadata": {
    "collapsed": false
   }
  },
  {
   "cell_type": "code",
   "execution_count": null,
   "outputs": [],
   "source": [
    "def constantes_sobreamortiguado():\n",
    "    row1 = []\n",
    "    row2 = []\n",
    "\n"
   ],
   "metadata": {
    "collapsed": false,
    "pycharm": {
     "name": "#%%\n"
    }
   }
  },
  {
   "cell_type": "markdown",
   "source": [
    "\n",
    "\n"
   ],
   "metadata": {
    "collapsed": false
   }
  },
  {
   "cell_type": "markdown",
   "source": [
    "Utilice **Python** para graficar las funciones obtenidas en el párrafo anterior.<br>\n",
    "*¿Los tiempos de estabilización y pseudoperiodos estimados en las gráficas\n",
    "coinciden con los valores solicitados?*<br>\n",
    "Justifique claramente su respuesta.\n",
    "Use el comando de anotación para los tiempos anteriores en la gráfica.<br>\n",
    "***(Valor 6 puntos).***\n",
    "\n",
    "### Solucion"
   ],
   "metadata": {
    "collapsed": false,
    "pycharm": {
     "name": "#%% md\n"
    }
   }
  },
  {
   "cell_type": "code",
   "execution_count": 7,
   "outputs": [
    {
     "name": "stdout",
     "output_type": "stream",
     "text": [
      "hola mundo\n"
     ]
    }
   ],
   "source": [
    "print('hola mundo')"
   ],
   "metadata": {
    "collapsed": false,
    "pycharm": {
     "name": "#%%\n"
    }
   }
  },
  {
   "cell_type": "markdown",
   "source": [
    "Implemente el sistema en OpenModelica, utilizando los bloques de la librería\n",
    "Mechanics - Translational y obtenga las curvas para $x(t)$ en cada uno de los\n",
    "casos, estas gráficas deben ser reportadas en su informe.<br>\n",
    "***(Valor 4 puntos).***\n",
    "\n",
    "### Solucion"
   ],
   "metadata": {
    "collapsed": false,
    "pycharm": {
     "name": "#%% md\n"
    }
   }
  },
  {
   "cell_type": "markdown",
   "source": [
    "Importe las soluciones obtenidos con OpenModelica a Python. Realice una\n",
    "comparación entre los resultados obtenidos en OpenModelica y los resultados\n",
    "obtenidos con el procedimiento manual, sobreponiendo las gráficas\n",
    "correspondientes.<br>\n",
    "***(Valor 6 puntos)***."
   ],
   "metadata": {
    "collapsed": false,
    "pycharm": {
     "name": "#%% md\n"
    }
   }
  },
  {
   "cell_type": "markdown",
   "source": [
    "## 5 Sistema masa resorte amortiguador con excitación (24 puntos)\n",
    "Para realizar esta sección asuma que la fuerza externa $F(t)$ está dada por:<br>\n",
    "$$ F(t) = \\left\\{\\begin{array}\\\\0 & 0<t<2[s] \\\\c & t>2[s]\\\\\\end{array}\\right.$$\n",
    "\n",
    "Dónde el valor de $c$ lo puede elegir libremente. Para los valores del resto de\n",
    "parámetros use los mismos de la sección anterior, seleccionando uno solo de\n",
    "los casos como se muestra en la siguiente tabla:\n",
    "\n",
    "|Grupos|Caso a reutilizar|\n",
    "|:---:|:-----:|\n",
    "|$1,2,3,4,5,6,7,8,9,10$|Subamortiguado|\n",
    "|$11,12,13,14,15,16,17,18,19,20$|Sobreamortiguado|"
   ],
   "metadata": {
    "collapsed": false,
    "pycharm": {
     "name": "#%% md\n"
    }
   }
  },
  {
   "cell_type": "markdown",
   "source": [
    "Obtenga una manualmente expresión para $x(t)$, obviamente se tratará de\n",
    "una expresión por tramos. Recuerde reportar su procedimiento matemático<br>\n",
    "***(6 puntos)***"
   ],
   "metadata": {
    "collapsed": false
   }
  },
  {
   "cell_type": "markdown",
   "source": [
    "Grafique la solucion utilizando Python, analice en que cambia la respuesta del sistema\n",
    "al agregar la fuerza externa, comparandolo con la respuesta obtenida en la seccion 4<br>\n",
    "***(6 puntos)***"
   ],
   "metadata": {
    "collapsed": false
   }
  },
  {
   "cell_type": "markdown",
   "source": [
    "Implemente el sistema en openmodelica, agregando la fuerza al modelo\n",
    "anterior (puede utilizar los bloques en Blocks - Continuous). Reporte en su\n",
    "informe la grafica obtenida<br>\n",
    "***(6 puntos)***.\n",
    "\n"
   ],
   "metadata": {
    "collapsed": false,
    "pycharm": {
     "name": "#%% md\n"
    }
   }
  },
  {
   "cell_type": "markdown",
   "source": [
    "Importe las soluciones obtenidas con OpenModelica a Python. Realice una\n",
    "comparacion entre los resultados obtenidos en OpenModelica y los resultados obtenidos\n",
    "con el procedimiento manual, sobreponiendo las graficas correspondientes<br>\n",
    "***(Valor 6 puntos)***"
   ],
   "metadata": {
    "collapsed": false,
    "pycharm": {
     "name": "#%% md\n"
    }
   }
  },
  {
   "cell_type": "code",
   "execution_count": null,
   "outputs": [],
   "source": [
    "df_subamortiguado_con_excitacion_open_modelica = pd.read_csv('')"
   ],
   "metadata": {
    "collapsed": false,
    "pycharm": {
     "name": "#%%\n"
    }
   }
  }
 ],
 "metadata": {
  "kernelspec": {
   "display_name": "Python 3",
   "language": "python",
   "name": "python3"
  },
  "language_info": {
   "codemirror_mode": {
    "name": "ipython",
    "version": 2
   },
   "file_extension": ".py",
   "mimetype": "text/x-python",
   "name": "python",
   "nbconvert_exporter": "python",
   "pygments_lexer": "ipython2",
   "version": "2.7.6"
  }
 },
 "nbformat": 4,
 "nbformat_minor": 0
}