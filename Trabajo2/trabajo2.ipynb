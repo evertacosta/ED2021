{
 "cells": [
  {
   "cell_type": "markdown",
   "source": [
    "#### Solucion de la ecuacion diferencial\n",
    "Encuentre $ V(t) $ asumiedo que el circuito esta con\n",
    "el interruptor cerrado para $ 0 < t < 2 $ y con el interruptor\n",
    "abierto para $ t>2 $. ASuma tambien que el capacitor\n"
   ],
   "metadata": {
    "collapsed": false
   }
  },
  {
   "cell_type": "markdown",
   "metadata": {
    "pycharm": {
     "name": "#%% md\n"
    }
   },
   "source": [
    "Iniciamos importando las librerias necesarias\n"
   ]
  },
  {
   "cell_type": "code",
   "execution_count": 4,
   "metadata": {
    "collapsed": true
   },
   "outputs": [],
   "source": [
    "import matplotlib.pyplot as plt\n",
    "import numpy as np\n",
    "import pandas as pd"
   ]
  },
  {
   "cell_type": "markdown",
   "metadata": {
    "pycharm": {
     "name": "#%% md\n"
    }
   },
   "source": [
    "Seleccione los valores para $ R_{1} $, $ R_{2} $ y $ C $, con $ R_{1} \\neq R_{2} $"
   ]
  },
  {
   "cell_type": "markdown",
   "metadata": {
    "pycharm": {
     "name": "#%% md\n"
    }
   },
   "source": [
    "$ C\\frac{dV_{c}}{dt} = \\left\\{ \\begin{array}\\\\ \\frac{5}{R_{1}}-\\frac{R_{1}+R_{2}}{R_{1}R_{2}} V_{c} \\\\ -\\frac{1}{R_{2}} V_{c} \\\\ \\end{array} \\right. $"
   ]
  },
  {
   "cell_type": "markdown",
   "metadata": {},
   "source": [
    "$$ V_{c}(t) = \\left\\{ \\begin{array}\\\\ \\frac{10}{3}-\\frac{10}{3} e^{-\\frac{3}{2}t} & \\mbox{if } \\ 0<x<2 \\ \\\\ 8.61e^{-\\frac{t}{2}} & \\mbox{if } \\ x>2 \\ \\\\ \\end{array} \\right. $$"
   ]
  },
  {
   "cell_type": "code",
   "execution_count": 5,
   "metadata": {
    "pycharm": {
     "name": "#%%\n"
    }
   },
   "outputs": [
    {
     "data": {
      "text/plain": "<Figure size 432x288 with 1 Axes>",
      "image/png": "[encoded data removed]"
     },
     "metadata": {
      "needs_background": "light"
     },
     "output_type": "display_data"
    },
    {
     "name": "stdout",
     "output_type": "stream",
     "text": [
      "3.167376438773787\n"
     ]
    }
   ],
   "source": [
    "def gra():\n",
    "    t1 = np.linspace(0, 2, 1000)\n",
    "    t2 = np.linspace(2, 10, 1000)\n",
    "\n",
    "    Vc_cerrado = (10/3) - (10/3)*np.exp(-(3/2)*t1)\n",
    "    Vc_abierto = 8.61*np.exp(-t2/2)\n",
    "\n",
    "    fig, ax1 = plt.subplots()\n",
    "\n",
    "    ax1.plot(t1, Vc_cerrado, label='cerrado')\n",
    "    ax1.plot(t2, Vc_abierto, label='abierto')\n",
    "    ax1.fill_between(t1,Vc_cerrado, alpha=0.3)\n",
    "    ax1.fill_between(t2,Vc_abierto, alpha=0.3)\n",
    "    ax1.legend()\n",
    "    ax1.grid()\n",
    "\n",
    "    plt.show()\n",
    "    print(Vc_cerrado[-1])\n",
    "gra()\n",
    "\n"
   ]
  },
  {
   "cell_type": "markdown",
   "metadata": {
    "pycharm": {
     "name": "#%% md\n"
    }
   },
   "source": [
    "#### Comparacion de resultados con OpenModelica\n"
   ]
  },
  {
   "cell_type": "code",
   "execution_count": 6,
   "outputs": [],
   "source": [
    "#df = pd.read_csv()\n",
    "\n"
   ],
   "metadata": {
    "collapsed": false,
    "pycharm": {
     "name": "#%%\n"
    }
   }
  }
 ],
 "metadata": {
  "kernelspec": {
   "display_name": "Python 3",
   "language": "python",
   "name": "python3"
  },
  "language_info": {
   "codemirror_mode": {
    "name": "ipython",
    "version": 3
   },
   "file_extension": ".py",
   "mimetype": "text/x-python",
   "name": "python",
   "nbconvert_exporter": "python",
   "pygments_lexer": "ipython3",
   "version": "3.9.4"
  }
 },
 "nbformat": 4,
 "nbformat_minor": 1
}